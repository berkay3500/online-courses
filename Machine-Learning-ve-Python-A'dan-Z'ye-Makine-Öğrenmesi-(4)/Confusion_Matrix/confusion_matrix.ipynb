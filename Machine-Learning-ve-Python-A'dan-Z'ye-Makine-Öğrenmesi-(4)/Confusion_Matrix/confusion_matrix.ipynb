{
  "nbformat": 4,
  "nbformat_minor": 0,
  "metadata": {
    "colab": {
      "name": "Untitled3.ipynb",
      "provenance": []
    },
    "kernelspec": {
      "name": "python3",
      "display_name": "Python 3"
    }
  },
  "cells": [
    {
      "cell_type": "code",
      "metadata": {
        "id": "CMIl6E9EPmoF"
      },
      "source": [
        "import numpy as np\r\n",
        "import pandas as pd\r\n",
        "\r\n",
        "data= pd.read_csv(\"data.csv\")\r\n",
        "data.drop([\"id\" , \"Unnamed: 32\"], axis=1, inplace= True)\r\n"
      ],
      "execution_count": 1,
      "outputs": []
    },
    {
      "cell_type": "code",
      "metadata": {
        "id": "c2bi9wQeQCYm"
      },
      "source": [
        "data.diagnosis= [1 if each == \"M\" else 0 for each in data.diagnosis]\r\n",
        "y = data.diagnosis.values\r\n",
        "x_data = data.drop([\"diagnosis\"],axis=1)"
      ],
      "execution_count": 2,
      "outputs": []
    },
    {
      "cell_type": "code",
      "metadata": {
        "id": "vJuqXwUeQEF9"
      },
      "source": [
        "# Normalization\r\n",
        "\r\n",
        "x=  (x_data-np.min(x_data))/(np.max(x_data)-np.min(x_data))"
      ],
      "execution_count": 3,
      "outputs": []
    },
    {
      "cell_type": "code",
      "metadata": {
        "id": "GVBs5Df9QFV5"
      },
      "source": [
        "# Train ve Test\r\n",
        "\r\n",
        "from sklearn.model_selection import train_test_split\r\n",
        "x_train, x_test, y_train, y_test= train_test_split(x, y, test_size=0.15, random_state= 42)\r\n"
      ],
      "execution_count": 4,
      "outputs": []
    },
    {
      "cell_type": "code",
      "metadata": {
        "colab": {
          "base_uri": "https://localhost:8080/"
        },
        "id": "RWA-ki45QG0c",
        "outputId": "195108a7-9e78-4ae8-e14b-222c2c997ce3"
      },
      "source": [
        "# Decision Tree \r\n",
        "\r\n",
        "from sklearn.tree import DecisionTreeClassifier\r\n",
        "\r\n",
        "dt= DecisionTreeClassifier()\r\n",
        "dt.fit(x_train, y_train)\r\n",
        "\r\n",
        "print(\"score:\", dt.score(x_test, y_test))"
      ],
      "execution_count": 5,
      "outputs": [
        {
          "output_type": "stream",
          "text": [
            "score: 0.9069767441860465\n"
          ],
          "name": "stdout"
        }
      ]
    },
    {
      "cell_type": "code",
      "metadata": {
        "colab": {
          "base_uri": "https://localhost:8080/"
        },
        "id": "w77Q4MXmQIx_",
        "outputId": "7c5b4fb9-1ffb-428a-e99d-0374b79c359b"
      },
      "source": [
        "# Random Forest\r\n",
        "\r\n",
        "from sklearn.ensemble import RandomForestClassifier\r\n",
        "\r\n",
        "rf= RandomForestClassifier(n_estimators = 100, random_state = 1)\r\n",
        "rf.fit(x_train, y_train)\r\n",
        "print(\"random forest:\", rf.score(x_test, y_test))\r\n",
        "\r\n",
        "\r\n",
        "y_pred= rf.predict(x_test)\r\n",
        "y_true= y_test"
      ],
      "execution_count": 6,
      "outputs": [
        {
          "output_type": "stream",
          "text": [
            "random forest: 0.9534883720930233\n"
          ],
          "name": "stdout"
        }
      ]
    },
    {
      "cell_type": "code",
      "metadata": {
        "id": "DlTHPbedQi1m"
      },
      "source": [
        "# Confusion Matrix\r\n",
        "\r\n",
        "from sklearn.metrics import confusion_matrix\r\n",
        "cm = confusion_matrix(y_true=y_true,y_pred=y_pred)\r\n"
      ],
      "execution_count": 7,
      "outputs": []
    },
    {
      "cell_type": "code",
      "metadata": {
        "colab": {
          "base_uri": "https://localhost:8080/",
          "height": 352
        },
        "id": "iCptOVsGR16w",
        "outputId": "e91a461e-6dbc-402b-8ce4-cdd012656d58"
      },
      "source": [
        "# Cm visualization\r\n",
        "\r\n",
        "import seaborn as sns\r\n",
        "import matplotlib.pyplot as plt\r\n",
        "\r\n",
        "f, ax = plt.subplots(figsize=(5,5))\r\n",
        "sns.heatmap(cm, annot= True, linewidths= 0.5, linecolor=\"red\", fmt= \".0f\", ax= ax)\r\n",
        "plt.xlabel(\"y_pred\")\r\n",
        "plt.ylabel(\"y_true\")"
      ],
      "execution_count": 8,
      "outputs": [
        {
          "output_type": "execute_result",
          "data": {
            "text/plain": [
              "Text(24.0, 0.5, 'y_true')"
            ]
          },
          "metadata": {
            "tags": []
          },
          "execution_count": 8
        },
        {
          "output_type": "display_data",
          "data": {
            "image/png": "[encoded data removed]",
            "text/plain": [
              "<Figure size 360x360 with 2 Axes>"
            ]
          },
          "metadata": {
            "tags": [],
            "needs_background": "light"
          }
        }
      ]
    },
    {
      "cell_type": "code",
      "metadata": {
        "id": "6Or66-utSGom"
      },
      "source": [
        ""
      ],
      "execution_count": null,
      "outputs": []
    }
  ]
}